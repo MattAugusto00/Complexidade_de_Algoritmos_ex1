{
  "nbformat": 4,
  "nbformat_minor": 0,
  "metadata": {
    "colab": {
      "name": "FuncoesDeOrdenacao.ipynb",
      "provenance": [],
      "collapsed_sections": [],
      "toc_visible": true
    },
    "kernelspec": {
      "name": "python3",
      "display_name": "Python 3"
    },
    "language_info": {
      "name": "python"
    }
  },
  "cells": [
    {
      "cell_type": "markdown",
      "source": [
        "# Insertion Sort"
      ],
      "metadata": {
        "id": "SlnQJQpdmuMq"
      }
    },
    {
      "cell_type": "code",
      "source": [
        "def insertionSort(A):\n",
        "  for j in range(1, len(A)):\n",
        "    chave=A[j]\n",
        "    i=j-1\n",
        "    while i>=0 and A[i]>chave:\n",
        "      aux=A[i]\n",
        "      A[i]=chave\n",
        "      A[i+1]=aux\n",
        "      i-=1\n",
        "  return A"
      ],
      "metadata": {
        "id": "g8fmPl1ao3D3"
      },
      "execution_count": null,
      "outputs": []
    },
    {
      "cell_type": "markdown",
      "source": [
        "## Melhor e Pior Caso"
      ],
      "metadata": {
        "id": "7356CAbLFSh-"
      }
    },
    {
      "cell_type": "code",
      "source": [
        "import random as ran\n",
        "import matplotlib.pyplot as plt\n",
        "\n",
        "def insertionSort(arranjo):\n",
        "    comparacoes = 0\n",
        "    for j in range(1, len(arranjo)):\n",
        "        chave=arranjo[j]\n",
        "        i=j-1\n",
        "        while i>=0 and arranjo[i]>chave:\n",
        "            aux=arranjo[i]\n",
        "            arranjo[i]=chave\n",
        "            arranjo[i+1]=aux\n",
        "            i-=1\n",
        "            comparacoes += 1\n",
        "    return comparacoes\n",
        "\n",
        "def testeAleatorio():\n",
        "    comparacoes = []\n",
        "    for i in range(5):\n",
        "        v = []\n",
        "        for i in range(5, 1001, 5):\n",
        "            v.append(ran.randrange(5, 1000, 5))\n",
        "        comparacoes.append(insertionSort(v))\n",
        "    return comparacoes\n",
        "\n",
        "def main():\n",
        "    x = [\"best\", \"rdm1\", \"rdm2\", \"rdm3\", \"rdm4\", \"rdm5\", \"worst\"]\n",
        "    y = []\n",
        "    \n",
        "    #melhor caso\n",
        "    v=[]\n",
        "    for i in range(5, 1001, 5):\n",
        "        v.append(i)\n",
        "    y.append(insertionSort(v))\n",
        "\n",
        "    #caso aleatorio\n",
        "    aleatorios = testeAleatorio()\n",
        "    for i in aleatorios: y.append(i)\n",
        "\n",
        "    #pior caso\n",
        "    v=[]\n",
        "    for i in range(1000, 4, -5):\n",
        "        v.append(i)\n",
        "    y.append(insertionSort(v))\n",
        "\n",
        "    plt.plot(x, y)\n",
        "main()"
      ],
      "metadata": {
        "colab": {
          "base_uri": "https://localhost:8080/",
          "height": 265
        },
        "id": "DQgXRrRWG1Es",
        "outputId": "cdf5e7dc-c9d3-427a-8859-b8ba982805d7"
      },
      "execution_count": null,
      "outputs": [
        {
          "output_type": "display_data",
          "data": {
            "text/plain": [
              "<Figure size 432x288 with 1 Axes>"
            ],
            "image/png": "[encoded data removed]"
          },
          "metadata": {
            "needs_background": "light"
          }
        }
      ]
    },
    {
      "cell_type": "markdown",
      "source": [
        "# Merge Sort"
      ],
      "metadata": {
        "id": "6lqa1cWlnNGI"
      }
    },
    {
      "cell_type": "code",
      "source": [
        "def mergeSort(A):\n",
        "    if len(A) > 1:\n",
        "        meio = len(A) // 2\n",
        "        esq = A[:meio]\n",
        "        dir = A[meio:]\n",
        "        mergeSort(esq)\n",
        "        mergeSort(dir)\n",
        "        i = 0\n",
        "        j = 0\n",
        "        k = 0\n",
        "        while i < len(esq) and j < len(dir):\n",
        "            if esq[i] <= dir[j]:\n",
        "              A[k] = esq[i]\n",
        "              i += 1\n",
        "            else:\n",
        "                A[k] = dir[j]\n",
        "                j += 1\n",
        "            k += 1\n",
        "        while i < len(esq):\n",
        "            A[k] = esq[i]\n",
        "            i += 1\n",
        "            k += 1\n",
        "        while j < len(dir):\n",
        "            A[k]=dir[j]\n",
        "            j += 1\n",
        "            k += 1\n",
        "    return A"
      ],
      "metadata": {
        "id": "i7klOA7enS74"
      },
      "execution_count": null,
      "outputs": []
    },
    {
      "cell_type": "markdown",
      "source": [
        "##Melhor e Pior caso"
      ],
      "metadata": {
        "id": "9mGbOH7Se2fk"
      }
    },
    {
      "cell_type": "code",
      "source": [
        "import random as ran\n",
        "import matplotlib.pyplot as plt\n",
        "\n",
        "def mergeSort(A):\n",
        "    comparacoes = 0\n",
        "    if len(A) > 1:\n",
        "        meio = len(A) // 2\n",
        "        esq = A[:meio]\n",
        "        dir = A[meio:]\n",
        "        mergeSort(esq)\n",
        "        mergeSort(dir)\n",
        "        i = 0\n",
        "        j = 0\n",
        "        k = 0\n",
        "        while i < len(esq) and j < len(dir):\n",
        "            if esq[i] <= dir[j]:\n",
        "              A[k] = esq[i]\n",
        "              i += 1\n",
        "            else:\n",
        "                A[k] = dir[j]\n",
        "                j += 1\n",
        "            k += 1\n",
        "            comparacoes += 1\n",
        "        while i < len(esq):\n",
        "            A[k] = esq[i]\n",
        "            i += 1\n",
        "            k += 1\n",
        "        while j < len(dir):\n",
        "            A[k]=dir[j]\n",
        "            j += 1\n",
        "            k += 1\n",
        "    return comparacoes\n",
        "\n",
        "def testeAleatorio():\n",
        "    comparacoes = []\n",
        "    for i in range(5):\n",
        "        v = []\n",
        "        for i in range(5, 1001, 5):\n",
        "            v.append(ran.randrange(5, 1000, 5))\n",
        "        comparacoes.append(mergeSort(v))\n",
        "    return comparacoes\n",
        "\n",
        "def main():\n",
        "    x = [\"best\", \"rdm1\", \"rdm2\", \"rdm3\", \"rdm4\", \"rdm5\", \"worst\"]\n",
        "    y = []\n",
        "\n",
        "    #melhor caso\n",
        "    v=[]\n",
        "    for i in range(5, 1001, 5):\n",
        "        v.append(i)\n",
        "    y.append(mergeSort(v))\n",
        "\n",
        "    #caso aleatorio\n",
        "    aleatorios = testeAleatorio()\n",
        "    for i in aleatorios: y.append(i)\n",
        "\n",
        "    #pior caso\n",
        "    v=[]\n",
        "    for i in range(1001, 5, -5):\n",
        "        v.append(i)\n",
        "    y.append(mergeSort(v))\n",
        "\n",
        "    plt.plot(x,y)\n",
        "main()"
      ],
      "metadata": {
        "colab": {
          "base_uri": "https://localhost:8080/",
          "height": 265
        },
        "id": "OOcNgt-Fe9Wd",
        "outputId": "be4224c1-4300-4691-f311-bdcf36779b2f"
      },
      "execution_count": null,
      "outputs": [
        {
          "output_type": "display_data",
          "data": {
            "text/plain": [
              "<Figure size 432x288 with 1 Axes>"
            ],
            "image/png": "[encoded data removed]"
          },
          "metadata": {
            "needs_background": "light"
          }
        }
      ]
    },
    {
      "cell_type": "markdown",
      "source": [
        "# Selection Sort"
      ],
      "metadata": {
        "id": "EnubGmvcnilx"
      }
    },
    {
      "cell_type": "code",
      "source": [
        "def selectionSort(A):\n",
        "    for i in range(len(A)):\n",
        "        menor = i\n",
        "        for j in range(i+1, len(A)):\n",
        "            if A[menor] > A[j]:\n",
        "                menor = j\n",
        "        A[i], A[menor] = A[menor], A[i]\n",
        "    return A"
      ],
      "metadata": {
        "id": "jVYbKIZ6oUGX"
      },
      "execution_count": null,
      "outputs": []
    },
    {
      "cell_type": "markdown",
      "source": [
        "##Melhor e Pior Caso"
      ],
      "metadata": {
        "id": "KPi4BhT4iwT1"
      }
    },
    {
      "cell_type": "code",
      "source": [
        "import random as ran\n",
        "import matplotlib.pyplot as plt\n",
        "\n",
        "def selectionSort(A):\n",
        "    comparacoes = 0\n",
        "    for i in range(len(A)):\n",
        "        menor = i\n",
        "        for j in range(i+1, len(A)):\n",
        "            if A[menor] > A[j]:\n",
        "                menor = j\n",
        "                comparacoes += 1\n",
        "        A[i], A[menor] = A[menor], A[i]\n",
        "    return comparacoes\n",
        "\n",
        "def testeAleatorio():\n",
        "    comparacoes = []\n",
        "    for i in range(5):\n",
        "        v = []\n",
        "        for i in range(5, 1001, 5):\n",
        "            v.append(ran.randrange(5, 1000, 5))\n",
        "        comparacoes.append(selectionSort(v))\n",
        "    return comparacoes\n",
        "\n",
        "def main():\n",
        "    x = [\"best\", \"rdm1\", \"rdm2\", \"rdm3\", \"rdm4\", \"rdm5\", \"worst\"]\n",
        "    y = []\n",
        "\n",
        "    #melhor caso\n",
        "    v=[]\n",
        "    for i in range(5, 1001, 5):\n",
        "        v.append(i)\n",
        "    y.append(selectionSort(v))\n",
        "\n",
        "    #caso aleatorio\n",
        "    aleatorios = testeAleatorio()\n",
        "    for i in aleatorios: y.append(i)\n",
        "\n",
        "    #pior caso\n",
        "    v=[]\n",
        "    for i in range(1000, 4, -5):\n",
        "        v.append(i)\n",
        "    y.append(selectionSort(v))\n",
        "\n",
        "    plt.plot(x, y)\n",
        "    \n",
        "main()"
      ],
      "metadata": {
        "colab": {
          "base_uri": "https://localhost:8080/",
          "height": 265
        },
        "id": "Fqa3K1t5izeU",
        "outputId": "973db2ab-cb43-4098-e64b-a54f1167eabf"
      },
      "execution_count": null,
      "outputs": [
        {
          "output_type": "display_data",
          "data": {
            "text/plain": [
              "<Figure size 432x288 with 1 Axes>"
            ],
            "image/png": "[encoded data removed]"
          },
          "metadata": {
            "needs_background": "light"
          }
        }
      ]
    },
    {
      "cell_type": "markdown",
      "source": [
        "# Bubble Sort"
      ],
      "metadata": {
        "id": "R4vfHyIkoB2o"
      }
    },
    {
      "cell_type": "code",
      "source": [
        "def bubbleSort(A):\n",
        "    for num in range(len(A)-1,0,-1):\n",
        "        for i in range(num):\n",
        "            if A[i]>A[i+1]:\n",
        "                temp = A[i]\n",
        "                A[i] = A[i+1]\n",
        "                A[i+1] = temp\n",
        "    return A"
      ],
      "metadata": {
        "id": "MkchV9_3oKsO"
      },
      "execution_count": null,
      "outputs": []
    },
    {
      "cell_type": "markdown",
      "source": [
        "##Melhor e Pior Caso"
      ],
      "metadata": {
        "id": "FQnVSCrHkKsF"
      }
    },
    {
      "cell_type": "code",
      "source": [
        "import random as ran\n",
        "import matplotlib.pyplot as plt\n",
        "\n",
        "def bubbleSort(A):\n",
        "    comparacoes = 0\n",
        "    for num in range(len(A)-1,0,-1):\n",
        "        for i in range(num):\n",
        "            if A[i]>A[i+1]:\n",
        "                temp = A[i]\n",
        "                A[i] = A[i+1]\n",
        "                A[i+1] = temp\n",
        "                comparacoes += 1\n",
        "    return comparacoes\n",
        "\n",
        "def testeAleatorio():\n",
        "    comparacoes = []\n",
        "    for i in range(5):\n",
        "        v = []\n",
        "        for i in range(5, 1001, 5):\n",
        "            v.append(ran.randrange(5, 1000, 5))\n",
        "        comparacoes.append(bubbleSort(v))\n",
        "    return comparacoes\n",
        "\n",
        "def main():\n",
        "    x = [\"best\", \"rdm1\", \"rdm2\", \"rdm3\", \"rdm4\", \"rdm5\", \"worst\"]\n",
        "    y = []\n",
        "    \n",
        "    #melhor caso\n",
        "    v=[]\n",
        "    for i in range(5, 1001, 5):\n",
        "        v.append(i)\n",
        "    y.append(bubbleSort(v))\n",
        "\n",
        "    #caso aleatorio\n",
        "    aleatorios = testeAleatorio()\n",
        "    for i in aleatorios: y.append(i)\n",
        "\n",
        "    #pior caso\n",
        "    v=[]\n",
        "    for i in range(1000, 4, -5):\n",
        "        v.append(i)\n",
        "    y.append(bubbleSort(v))\n",
        "\n",
        "    plt.plot(x, y)\n",
        "\n",
        "main()"
      ],
      "metadata": {
        "colab": {
          "base_uri": "https://localhost:8080/",
          "height": 265
        },
        "id": "U5d2ILRwkUi5",
        "outputId": "68348612-2f6f-420e-8a78-b4bd7a056790"
      },
      "execution_count": null,
      "outputs": [
        {
          "output_type": "display_data",
          "data": {
            "text/plain": [
              "<Figure size 432x288 with 1 Axes>"
            ],
            "image/png": "[encoded data removed]"
          },
          "metadata": {
            "needs_background": "light"
          }
        }
      ]
    },
    {
      "cell_type": "markdown",
      "source": [
        "# Heap Sort"
      ],
      "metadata": {
        "id": "1H2utwIioeZI"
      }
    },
    {
      "cell_type": "code",
      "source": [
        "def heapify(A, n, i):\n",
        "    maior = i\n",
        "    esq = 2 * i + 1\n",
        "    dir = 2 * i + 2\n",
        "    if esq < n and A[i] < A[esq]:\n",
        "        maior = esq\n",
        "    if dir < n and A[maior] < A[dir]:\n",
        "        maior = dir\n",
        "    if maior != i:\n",
        "        A[i],A[maior] = A[maior],A[i]\n",
        "        heapify(A, n, maior)\n",
        "\n",
        "def heapSort(A):\n",
        "    n = len(A)\n",
        "    for i in range(n // 2 - 1, -1, -1):\n",
        "        heapify(A, n, i)\n",
        "    for i in range(n-1, 0, -1):\n",
        "        A[i], A[0] = A[0], A[i]\n",
        "        heapify(A, i, 0)\n",
        "    return A"
      ],
      "metadata": {
        "id": "BtsFHexvonMX"
      },
      "execution_count": null,
      "outputs": []
    },
    {
      "cell_type": "markdown",
      "source": [
        "##Melhor e Pior Caso"
      ],
      "metadata": {
        "id": "CA0d1ZUO2vYO"
      }
    },
    {
      "cell_type": "code",
      "source": [
        "import random as ran\n",
        "import matplotlib.pyplot as plt\n",
        "\n",
        "def heapify(A, n, i):\n",
        "    maior = i\n",
        "    esq = 2 * i + 1\n",
        "    dir = 2 * i + 2\n",
        "    if esq < n and A[i] < A[esq]:\n",
        "        maior = esq\n",
        "    if dir < n and A[maior] < A[dir]:\n",
        "        maior = dir\n",
        "    if maior != i:\n",
        "        A[i],A[maior] = A[maior],A[i]\n",
        "        heapify(A, n, maior)\n",
        "\n",
        "def heapSort(A):\n",
        "    comparacoes=0\n",
        "    n = len(A)\n",
        "    for i in range(n // 2 - 1, -1, -1):\n",
        "        heapify(A, n, i)\n",
        "        comparacoes+=1\n",
        "    for i in range(n-1, 0, -1):\n",
        "        A[i], A[0] = A[0], A[i]\n",
        "        heapify(A, i, 0)\n",
        "        comparacoes+=1\n",
        "    return comparacoes\n",
        "\n",
        "def testeAleatorio():\n",
        "    comparacoes = []\n",
        "    for i in range(5):\n",
        "        v = []\n",
        "        for i in range(5, 1001, 5):\n",
        "            v.append(ran.randrange(5, 1000, 5))\n",
        "        comparacoes.append(heapSort(v))\n",
        "    return comparacoes\n",
        "\n",
        "def main():\n",
        "    x = [\"best\", \"rdm1\", \"rdm2\", \"rdm3\", \"rdm4\", \"rdm5\", \"worst\"]\n",
        "    y = []\n",
        "    \n",
        "    #melhor caso\n",
        "    v=[]\n",
        "    for i in range(5, 1001, 5):\n",
        "        v.append(i)\n",
        "    y.append(heapSort(v))\n",
        "\n",
        "    #caso aleatorio\n",
        "    aleatorios = testeAleatorio()\n",
        "    for i in aleatorios: y.append(i)\n",
        "\n",
        "    #pior caso\n",
        "    v=[]\n",
        "    for i in range(1000, 4, -5):\n",
        "        v.append(i)\n",
        "    y.append(heapSort(v))\n",
        "\n",
        "    plt.plot(x, y)\n",
        "\n",
        "main()"
      ],
      "metadata": {
        "colab": {
          "base_uri": "https://localhost:8080/",
          "height": 266
        },
        "id": "CBCbf5GR2ySG",
        "outputId": "f922791c-24a4-4a51-f8dd-1b04c87a8041"
      },
      "execution_count": null,
      "outputs": [
        {
          "output_type": "display_data",
          "data": {
            "text/plain": [
              "<Figure size 432x288 with 1 Axes>"
            ],
            "image/png": "[encoded data removed]"
          },
          "metadata": {
            "needs_background": "light"
          }
        }
      ]
    },
    {
      "cell_type": "markdown",
      "source": [
        "# Quick Sort"
      ],
      "metadata": {
        "id": "Barnytevooyv"
      }
    },
    {
      "cell_type": "code",
      "source": [
        "def quickSort(A):\n",
        "   quickSortHelper(A,0,len(A)-1)\n",
        "   return A\n",
        "\n",
        "def quickSortHelper(A,primeiro,ultimo):\n",
        "   if primeiro<ultimo:\n",
        "       div = particao(A,primeiro,ultimo)\n",
        "       quickSortHelper(A,primeiro,div-1)\n",
        "       quickSortHelper(A,div+1,ultimo)\n",
        "\n",
        "def particao(A,primeiro,ultimo):\n",
        "   pivot = A[primeiro]\n",
        "   marcaEsq = primeiro+1\n",
        "   marcaDir = ultimo\n",
        "   terminou = False\n",
        "\n",
        "   while not terminou:\n",
        "       while marcaEsq <= marcaDir and A[marcaEsq] <= pivot:\n",
        "           marcaEsq = marcaEsq + 1\n",
        "       while A[marcaDir] >= pivot and marcaDir >= marcaEsq:\n",
        "           marcaDir = marcaDir -1\n",
        "       if marcaDir < marcaEsq:\n",
        "           terminou = True\n",
        "       else:\n",
        "           temp = A[marcaEsq]\n",
        "           A[marcaEsq] = A[marcaDir]\n",
        "           A[marcaDir] = temp\n",
        "   temp = A[primeiro]\n",
        "   A[primeiro] = A[marcaDir]\n",
        "   A[marcaDir] = temp\n",
        "   return marcaDir"
      ],
      "metadata": {
        "id": "2bWymz0cowOP"
      },
      "execution_count": null,
      "outputs": []
    },
    {
      "cell_type": "markdown",
      "source": [
        "##Melhor e Pior Caso"
      ],
      "metadata": {
        "id": "_V6GSfuC7_gT"
      }
    },
    {
      "cell_type": "code",
      "source": [
        "def quickSort(A):\n",
        "   return(quickSortHelper(A,0,len(A)-1))\n",
        "\n",
        "def quickSortHelper(A,primeiro,ultimo):\n",
        "    comparacoes = 0\n",
        "    if primeiro<ultimo:\n",
        "        div, compparcial = particao(A,primeiro,ultimo)\n",
        "        quickSortHelper(A,primeiro,div-1)\n",
        "        quickSortHelper(A,div+1,ultimo)\n",
        "        comparacoes += compparcial + 1\n",
        "    return comparacoes\n",
        "\n",
        "def particao(A,primeiro,ultimo):\n",
        "    pivot = A[primeiro]\n",
        "    marcaEsq = primeiro+1\n",
        "    marcaDir = ultimo\n",
        "    terminou = False\n",
        "    comparacoes = 0\n",
        "    while not terminou:\n",
        "        while marcaEsq <= marcaDir and A[marcaEsq] <= pivot:\n",
        "            marcaEsq = marcaEsq + 1\n",
        "            comparacoes += 1\n",
        "        while A[marcaDir] >= pivot and marcaDir >= marcaEsq:\n",
        "            marcaDir = marcaDir -1\n",
        "            comparacoes += 1\n",
        "        if marcaDir < marcaEsq:\n",
        "            terminou = True\n",
        "        else:\n",
        "            temp = A[marcaEsq]\n",
        "            A[marcaEsq] = A[marcaDir]\n",
        "            A[marcaDir] = temp\n",
        "        comparacoes += 1\n",
        "    temp = A[primeiro]\n",
        "    A[primeiro] = A[marcaDir]\n",
        "    A[marcaDir] = temp\n",
        "    return marcaDir, comparacoes\n",
        "\n",
        "def testeAleatorio():\n",
        "    comparacoes = []\n",
        "    for i in range(5):\n",
        "        v = []\n",
        "        for i in range(5, 1001, 5):\n",
        "            v.append(ran.randrange(5, 1000, 5))\n",
        "        comparacoes.append(quickSort(v))\n",
        "    return comparacoes\n",
        "\n",
        "def main():\n",
        "    x = [\"best\", \"rdm1\", \"rdm2\", \"rdm3\", \"rdm4\", \"rdm5\", \"worst\"]\n",
        "    y = []\n",
        "    \n",
        "    #melhor caso\n",
        "    v=[]\n",
        "    for i in range(5, 1001, 5):\n",
        "        v.append(i)\n",
        "    y.append(quickSort(v))\n",
        "\n",
        "    #caso aleatorio\n",
        "    aleatorios = testeAleatorio()\n",
        "    for i in aleatorios: y.append(i)\n",
        "\n",
        "    #pior caso\n",
        "    v=[]\n",
        "    for i in range(1000, 4, -5):\n",
        "        v.append(i)\n",
        "    y.append(quickSort(v))\n",
        "\n",
        "    plt.plot(x, y)\n",
        "\n",
        "main()"
      ],
      "metadata": {
        "id": "0tEstxP88IFr",
        "outputId": "f45fb4e7-f4a9-4575-bb94-88553f6536b2",
        "colab": {
          "base_uri": "https://localhost:8080/",
          "height": 265
        }
      },
      "execution_count": null,
      "outputs": [
        {
          "output_type": "display_data",
          "data": {
            "text/plain": [
              "<Figure size 432x288 with 1 Axes>"
            ],
            "image/png": "[encoded data removed]"
          },
          "metadata": {
            "needs_background": "light"
          }
        }
      ]
    },
    {
      "cell_type": "markdown",
      "source": [
        "#Qual é o comportamento assintótico para cada um dos algorítmos acima (melhor caso e pior caso, se puder, analise também em casos aleatórios)\n",
        "\n",
        "\n",
        "\n"
      ],
      "metadata": {
        "id": "6dlu91_hE6BQ"
      }
    },
    {
      "cell_type": "markdown",
      "source": [
        "**Insertion Sort:** pior caso = O(n^2), caso medio = O(n^2), melhor caso = O(n). <br>\n",
        "**Selection Sort:** O(n^2) para pior, melhor e caso medio. <br>\n",
        "**Bubble Sort:**    O(n^2) para pior e medio caso. Melhor caso = O(n). <br>\n",
        "**Merge Sort:**     Θ(n∗logn) para pior, melhor e caso medio <br>\n",
        "**QuickSort:**      pior caso=O(n^2), caso medio=O(n log n), melhor caso = O(n log n).<br>\n",
        "**HeapSort:**       Θ(n∗logn) para pior, melhor e caso medio. <br>"
      ],
      "metadata": {
        "id": "8lRaJ4qlFbB4"
      }
    },
    {
      "cell_type": "markdown",
      "source": [
        "# Quicksort Aleatorizado"
      ],
      "metadata": {
        "id": "-HO0iXAcOto8"
      }
    },
    {
      "cell_type": "code",
      "source": [
        "import random as ran\n",
        "\n",
        "def quicksort(vet, inicio, fim):\n",
        "    if(inicio < fim):\n",
        "        i = particaoAleatoria(vet, inicio, fim)\n",
        "        quicksort(vet , inicio , i)\n",
        "        quicksort(vet, i + 1, fim)\n",
        "\n",
        "def particaoAleatoria(vet , inicio, fim):\n",
        "    pivoAleat = ran.randrange(inicio, fim)\n",
        "    vet[inicio], vet[pivoAleat] =\\\n",
        "        vet[pivoAleat], vet[inicio]\n",
        "    return particao(vet, inicio, fim)\n",
        "\n",
        "def particao(vet, inicio, fim):\n",
        "    pivot = inicio\n",
        "    i = inicio - 1\n",
        "    j = fim + 1\n",
        "    while True:\n",
        "        while True:\n",
        "            i = i + 1\n",
        "            if vet[i] >= vet[pivot]:\n",
        "                break\n",
        "        while True:\n",
        "            j = j - 1\n",
        "            if vet[j] <= vet[pivot]:\n",
        "                break\n",
        "        if i >= j:\n",
        "            return j\n",
        "        vet[i] , vet[j] = vet[j] , vet[i]\n",
        "\n",
        "def main():\n",
        "    vet = [4, 3 , 2, 7, 1, 5, 6, 10]\n",
        "    quicksort(vet, 0, len(vet) - 1)\n",
        "    print(vet)\n",
        "main()"
      ],
      "metadata": {
        "colab": {
          "base_uri": "https://localhost:8080/"
        },
        "id": "_vX-je0pO01l",
        "outputId": "c89050ab-060c-4723-8f1c-91e069bb6367"
      },
      "execution_count": null,
      "outputs": [
        {
          "output_type": "stream",
          "name": "stdout",
          "text": [
            "[1, 2, 3, 4, 5, 6, 7, 10]\n"
          ]
        }
      ]
    },
    {
      "cell_type": "markdown",
      "source": [
        "QuickSort: pior caso=O(n^2), caso medio=O(n log n), melhor caso = O(n log n). Usando o pivotamento aleatório, melhoramos a complexidade de tempo esperada ou média para O (N log N). A complexidade do pior caso ainda é O (N ^ 2)."
      ],
      "metadata": {
        "id": "kK8rQ1hdZ8cL"
      }
    }
  ]
}