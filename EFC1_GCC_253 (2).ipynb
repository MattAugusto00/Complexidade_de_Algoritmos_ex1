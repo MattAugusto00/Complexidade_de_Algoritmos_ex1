{
  "cells": [
    {
      "cell_type": "markdown",
      "metadata": {
        "id": "XAdlKnDBj5uB"
      },
      "source": [
        "# EFC1 GCC253 - Complexidade e Projeto de Algoritmos\n",
        "\n",
        "\n",
        "> **Prof.: Douglas H. S. Abreu**\n",
        "\n",
        "\n",
        "**Aluno**:\n",
        "\n",
        "**Matricula**\n",
        "\n",
        "**Turma**: 10A, 14A\n",
        "\n",
        "Link do repositório GitHub: \n",
        "\n",
        "● O trabalho deve ser feito em grupos de no máximo 2 componentes (todos devem enviar a atividade no Campus Virtual)\n",
        "\n",
        "● Trabalhos entregues após a data limite não serão aceitos\n",
        "\n",
        "● Data limite de entrega: 24 de Julho de 2022 : 23h55m\n",
        "\n",
        "● Enviar o trabalho para o campus virtual, do seguinte modo: link do repositório GitHub e do Colab para acesso ao Notebook. A Documentação deve estar no readme\n",
        "\n",
        "● O trabalho deve ser desenvolvido no modelo Notebook utilizando a linguagem Python"
      ]
    },
    {
      "cell_type": "markdown",
      "metadata": {
        "id": "J3d6JlRUxREN"
      },
      "source": [
        "# Importações e Variáveis globais"
      ]
    },
    {
      "cell_type": "code",
      "execution_count": null,
      "metadata": {
        "id": "Ur1DVGQAxac4"
      },
      "outputs": [],
      "source": [
        "import numpy as np\n",
        "\n",
        "global_1=0"
      ]
    },
    {
      "cell_type": "markdown",
      "metadata": {
        "id": "kPNpzNYwkKAO"
      },
      "source": [
        "# Funções de Ordenação\n",
        "\n",
        "> Utilize este espaço para definir as funções de ordenação vista em sala de aula\n",
        "\n"
      ]
    },
    {
      "cell_type": "markdown",
      "metadata": {
        "id": "nEw1UEsmoKMg"
      },
      "source": [
        "##  Insertion Sort\n"
      ]
    },
    {
      "cell_type": "code",
      "execution_count": null,
      "metadata": {
        "id": "kbOrhdB-j_px"
      },
      "outputs": [],
      "source": [
        "def insertionSort(A):\n",
        "  for j in range(1, len(A)):\n",
        "    chave=A[j]\n",
        "    i=j-1\n",
        "    while i>=0 and A[i]>chave:\n",
        "      aux=A[i]\n",
        "      A[i]=chave\n",
        "      A[i+1]=aux\n",
        "      i-=1\n",
        "  return A"
      ]
    },
    {
      "cell_type": "markdown",
      "metadata": {
        "id": "9a-wJwU-wtmQ"
      },
      "source": [
        "##  Merge Sort\n"
      ]
    },
    {
      "cell_type": "code",
      "execution_count": null,
      "metadata": {
        "id": "8cgIJ_4EwbPN"
      },
      "outputs": [],
      "source": [
        "def mergeSort(A):\n",
        "    if len(A) > 1:\n",
        "        meio = len(A) // 2\n",
        "        esq = A[:meio]\n",
        "        dir = A[meio:]\n",
        "        mergeSort(esq)\n",
        "        mergeSort(dir)\n",
        "        i = 0\n",
        "        j = 0\n",
        "        k = 0\n",
        "        while i < len(esq) and j < len(dir):\n",
        "            if esq[i] <= dir[j]:\n",
        "              A[k] = esq[i]\n",
        "              i += 1\n",
        "            else:\n",
        "                A[k] = dir[j]\n",
        "                j += 1\n",
        "            k += 1\n",
        "        while i < len(esq):\n",
        "            A[k] = esq[i]\n",
        "            i += 1\n",
        "            k += 1\n",
        "        while j < len(dir):\n",
        "            A[k]=dir[j]\n",
        "            j += 1\n",
        "            k += 1\n",
        "    return A"
      ]
    },
    {
      "cell_type": "markdown",
      "metadata": {
        "id": "8dWpeYUvw-wU"
      },
      "source": [
        "##  Selection Sort\n"
      ]
    },
    {
      "cell_type": "code",
      "execution_count": null,
      "metadata": {
        "id": "vNgUDShawygu"
      },
      "outputs": [],
      "source": [
        "def selectionSort(A):\n",
        "    for i in range(len(A)):\n",
        "        menor = i\n",
        "        for j in range(i+1, len(A)):\n",
        "            if A[menor] > A[j]:\n",
        "                menor = j\n",
        "        A[i], A[menor] = A[menor], A[i]\n",
        "    return A"
      ]
    },
    {
      "cell_type": "markdown",
      "metadata": {
        "id": "zNI1kX0yyDrs"
      },
      "source": [
        "##  Bubble Sort\n"
      ]
    },
    {
      "cell_type": "code",
      "execution_count": null,
      "metadata": {
        "id": "6X_zk1yWxMQS"
      },
      "outputs": [],
      "source": [
        "def bubbleSort(A):\n",
        "    for num in range(len(A)-1,0,-1):\n",
        "        for i in range(num):\n",
        "            if A[i]>A[i+1]:\n",
        "                temp = A[i]\n",
        "                A[i] = A[i+1]\n",
        "                A[i+1] = temp\n",
        "    return A"
      ]
    },
    {
      "cell_type": "markdown",
      "metadata": {
        "id": "vk4vOTkKyLB-"
      },
      "source": [
        "## Heap Sort"
      ]
    },
    {
      "cell_type": "code",
      "execution_count": null,
      "metadata": {
        "id": "39a7xXzLyH9g"
      },
      "outputs": [],
      "source": [
        "def heapify(A, n, i):\n",
        "    maior = i\n",
        "    esq = 2 * i + 1\n",
        "    dir = 2 * i + 2\n",
        "    if esq < n and A[i] < A[esq]:\n",
        "        maior = esq\n",
        "    if dir < n and A[maior] < A[dir]:\n",
        "        maior = dir\n",
        "    if maior != i:\n",
        "        A[i],A[maior] = A[maior],A[i]\n",
        "        heapify(A, n, maior)\n",
        "\n",
        "def heapSort(A):\n",
        "    n = len(A)\n",
        "    for i in range(n // 2 - 1, -1, -1):\n",
        "        heapify(A, n, i)\n",
        "    for i in range(n-1, 0, -1):\n",
        "        A[i], A[0] = A[0], A[i]\n",
        "        heapify(A, i, 0)\n",
        "    return A"
      ]
    },
    {
      "cell_type": "markdown",
      "metadata": {
        "id": "fFiGho5CyU3t"
      },
      "source": [
        "## Quick Sort\n",
        "\n",
        "> pivo = *A[A-comprimento]*"
      ]
    },
    {
      "cell_type": "code",
      "execution_count": null,
      "metadata": {
        "id": "1Ie_N5CRyKY7"
      },
      "outputs": [],
      "source": [
        "def quickSort(A):\n",
        "   quickSortHelper(A,0,len(A)-1)\n",
        "   return A\n",
        "\n",
        "def quickSortHelper(A,primeiro,ultimo):\n",
        "   if primeiro<ultimo:\n",
        "       div = particao(A,primeiro,ultimo)\n",
        "       quickSortHelper(A,primeiro,div-1)\n",
        "       quickSortHelper(A,div+1,ultimo)\n",
        "\n",
        "def particao(A,primeiro,ultimo):\n",
        "   pivot = A[primeiro]\n",
        "   marcaEsq = primeiro+1\n",
        "   marcaDir = ultimo\n",
        "   terminou = False\n",
        "\n",
        "   while not terminou:\n",
        "       while marcaEsq <= marcaDir and A[marcaEsq] <= pivot:\n",
        "           marcaEsq = marcaEsq + 1\n",
        "       while A[marcaDir] >= pivot and marcaDir >= marcaEsq:\n",
        "           marcaDir = marcaDir -1\n",
        "       if marcaDir < marcaEsq:\n",
        "           terminou = True\n",
        "       else:\n",
        "           temp = A[marcaEsq]\n",
        "           A[marcaEsq] = A[marcaDir]\n",
        "           A[marcaDir] = temp\n",
        "   temp = A[primeiro]\n",
        "   A[primeiro] = A[marcaDir]\n",
        "   A[marcaDir] = temp\n",
        "   return marcaDir\n"
      ]
    },
    {
      "cell_type": "markdown",
      "metadata": {
        "id": "VomdAnCrzEv1"
      },
      "source": [
        "# Questões"
      ]
    },
    {
      "cell_type": "markdown",
      "metadata": {
        "id": "3QKV979kzItD"
      },
      "source": [
        "\n",
        "\n",
        "1.   Dado um conjunto de arranjos ***A[5,...,1000, passo=5]***\n",
        "\n",
        "> a) Defina o melhor e pior caso para cada um dos algoritmos definidos acima, crie vetores ***A*** para estes casos e faça a comparação gráficamente também com casos aleatórios (plote um gráfico para cada algoritmo). Conte o numero de comparações realzizadas para cada uma das execuções.\n",
        "\n",
        "> b) Repita o procedimento acima. Porém compare os algoritmos para pior e melhor caso e também casos aleatórios.\n",
        "\n",
        "> c) Qual é o comportamento assintótico para cada um dos algorítmos acima (melhor caso e pior caso, se puder, analise também em casos aleatórios)\n",
        "\n",
        "\n",
        "\n",
        "**Obs.:** para os algoritmos QuickSort e Merge Sort mostre apenas um melhor e um pior caso. faça a comparação com os demais métodos com o conjunto ***A*** apenas em casos aleatórios.\n",
        "\n",
        "\n",
        "\n"
      ]
    },
    {
      "cell_type": "markdown",
      "metadata": {
        "id": "9hhEkQam21NC"
      },
      "source": [
        "2.   Desenvolda uma versão aleatorizada do QUICKSORT (pivo aleatório) e compare com a versão apresentada em sala de aula e definida acima.\n",
        "\n"
      ]
    },
    {
      "cell_type": "code",
      "execution_count": null,
      "metadata": {
        "colab": {
          "base_uri": "https://localhost:8080/"
        },
        "id": "nBfs279_1Vko",
        "outputId": "6a6e86cf-5b1e-4176-a1a5-93bfb4ded319"
      },
      "outputs": [
        {
          "name": "stdout",
          "output_type": "stream",
          "text": [
            "Boa sorte!!!\n"
          ]
        }
      ],
      "source": [
        "print(\"Boa sorte!!!\")"
      ]
    }
  ],
  "metadata": {
    "colab": {
      "collapsed_sections": [
        "kPNpzNYwkKAO",
        "nEw1UEsmoKMg",
        "9a-wJwU-wtmQ",
        "8dWpeYUvw-wU",
        "zNI1kX0yyDrs",
        "vk4vOTkKyLB-"
      ],
      "name": "EFC1 GCC-253.ipynb",
      "provenance": [],
      "toc_visible": true
    },
    "kernelspec": {
      "display_name": "Python 3.10.4 64-bit",
      "language": "python",
      "name": "python3"
    },
    "language_info": {
      "name": "python",
      "version": "3.10.4"
    },
    "vscode": {
      "interpreter": {
        "hash": "32b6365f16a9560d1f64eaf7f0cd3e0262cb733df60217a199a198ac26346325"
      }
    }
  },
  "nbformat": 4,
  "nbformat_minor": 0
}
